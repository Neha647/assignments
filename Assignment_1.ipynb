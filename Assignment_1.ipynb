{
 "cells": [
  {
   "cell_type": "markdown",
   "id": "66721ff1",
   "metadata": {},
   "source": [
    "1. * - expression\n",
    "'hello' - value\n",
    "-87.8 - value\n",
    "- - expression\n",
    "/ - expression\n",
    "+ - expression\n",
    "6 - value\n"
   ]
  },
  {
   "cell_type": "markdown",
   "id": "e7338295",
   "metadata": {},
   "source": [
    "2. A variable is a store of information. It stores values in form of string,numbers,lists etc. A string is a type of information \n",
    "stored in a variable. It is usually words enclosed in \" \".\n"
   ]
  },
  {
   "cell_type": "markdown",
   "id": "ced0f41e",
   "metadata": {},
   "source": [
    "3. Boolean Datatype- True, False\n",
    "Numeric Datatype-int, float, complex\n",
    "Text Datatype-str"
   ]
  },
  {
   "cell_type": "markdown",
   "id": "a8b6fa57",
   "metadata": {},
   "source": [
    "4.An expression is a combination of values, variables, operators and functions.An expression is a combination of operators and operands that  produce some  value."
   ]
  },
  {
   "cell_type": "markdown",
   "id": "7cbe6f71",
   "metadata": {},
   "source": [
    "5. Expressions only contain identifiers, literals and operators. Statements can make up a line or several lines of code."
   ]
  },
  {
   "cell_type": "code",
   "execution_count": 2,
   "id": "86e793b0",
   "metadata": {},
   "outputs": [
    {
     "data": {
      "text/plain": [
       "23"
      ]
     },
     "execution_count": 2,
     "metadata": {},
     "output_type": "execute_result"
    }
   ],
   "source": [
    "#6.\n",
    "bacon = 22\n",
    "bacon + 1\n",
    "#output-23"
   ]
  },
  {
   "cell_type": "markdown",
   "id": "d7550b8f",
   "metadata": {},
   "source": [
    "7. 'spam' + 'spamspam'= 'spamspamspam'\n",
    "'spam' * 3 ='spamspamspam'\n"
   ]
  },
  {
   "cell_type": "markdown",
   "id": "d316a3db",
   "metadata": {},
   "source": [
    "8. Eggs is a valid variable as variable can start with alphabet whereas 100 is invalid as variables cannot have number at the beginning."
   ]
  },
  {
   "cell_type": "code",
   "execution_count": 7,
   "id": "f2915513",
   "metadata": {},
   "outputs": [
    {
     "data": {
      "text/plain": [
       "'32'"
      ]
     },
     "execution_count": 7,
     "metadata": {},
     "output_type": "execute_result"
    }
   ],
   "source": [
    "#9.\n",
    "a=32\n",
    "int(a)\n",
    "float(a)\n",
    "str(a)"
   ]
  },
  {
   "cell_type": "code",
   "execution_count": 8,
   "id": "b3931bfd",
   "metadata": {},
   "outputs": [
    {
     "data": {
      "text/plain": [
       "'I have eaten 99 burritos.'"
      ]
     },
     "execution_count": 8,
     "metadata": {},
     "output_type": "execute_result"
    }
   ],
   "source": [
    "#10. String and integer cannot be concatanated. We can fix the error by typecasting it.\n",
    "a='I have eaten ' + str(99) + ' burritos.'\n",
    "a"
   ]
  },
  {
   "cell_type": "code",
   "execution_count": null,
   "id": "ce1b78ec",
   "metadata": {},
   "outputs": [],
   "source": []
  }
 ],
 "metadata": {
  "kernelspec": {
   "display_name": "Python 3",
   "language": "python",
   "name": "python3"
  },
  "language_info": {
   "codemirror_mode": {
    "name": "ipython",
    "version": 3
   },
   "file_extension": ".py",
   "mimetype": "text/x-python",
   "name": "python",
   "nbconvert_exporter": "python",
   "pygments_lexer": "ipython3",
   "version": "3.8.8"
  }
 },
 "nbformat": 4,
 "nbformat_minor": 5
}
