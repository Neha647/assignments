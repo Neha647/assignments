{
 "cells": [
  {
   "cell_type": "code",
   "execution_count": 1,
   "id": "4df57bc1",
   "metadata": {},
   "outputs": [
    {
     "name": "stdout",
     "output_type": "stream",
     "text": [
      "Hello Python\n"
     ]
    }
   ],
   "source": [
    "#Write a Python program to print \"Hello Python\"\n",
    "print(\"Hello Python\")"
   ]
  },
  {
   "cell_type": "code",
   "execution_count": 3,
   "id": "988c9f55",
   "metadata": {},
   "outputs": [
    {
     "name": "stdout",
     "output_type": "stream",
     "text": [
      "enter 1st number45\n",
      "enter 2nd number5\n",
      "50\n",
      "9\n"
     ]
    }
   ],
   "source": [
    "#Write a Python program to do arithmetical operations addition and division\n",
    "a=int(input('enter 1st number'))\n",
    "b=int(input('enter 2nd number'))\n",
    "c=a+b\n",
    "d=int(a/b)\n",
    "print(c)\n",
    "print(d)"
   ]
  },
  {
   "cell_type": "code",
   "execution_count": 12,
   "id": "db865dff",
   "metadata": {},
   "outputs": [
    {
     "name": "stdout",
     "output_type": "stream",
     "text": [
      "enter length of 1st side\n",
      "5\n",
      "enter length of 2nd side\n",
      "6\n",
      "enter length of 3rd side\n",
      "7\n",
      "area of triangle is 14.70\n"
     ]
    }
   ],
   "source": [
    "#Write a Python program to find the area of a triangle\n",
    "a=float(input(\"enter length of 1st side\\n\"))\n",
    "b=float(input(\"enter length of 2nd side\\n\"))\n",
    "c=float(input(\"enter length of 3rd side\\n\"))\n",
    "s=(a+b+c)/2\n",
    "area=(s*(s-a)*(s-b)*(s-c))**0.5\n",
    "print(\"area of triangle is %.2f\" %area)\n"
   ]
  },
  {
   "cell_type": "code",
   "execution_count": 8,
   "id": "d3d3f8d7",
   "metadata": {},
   "outputs": [
    {
     "name": "stdout",
     "output_type": "stream",
     "text": [
      "enter 1st number45\n",
      "enter 2nd number54\n",
      "54\n",
      "45\n"
     ]
    }
   ],
   "source": [
    "#Write a Python program to swap two variables\n",
    "a=int(input('enter 1st number'))\n",
    "b=int(input('enter 2nd number'))\n",
    "a,b=b,a\n",
    "print(a)\n",
    "print(b)"
   ]
  },
  {
   "cell_type": "code",
   "execution_count": 18,
   "id": "cd6937ce",
   "metadata": {},
   "outputs": [
    {
     "name": "stdout",
     "output_type": "stream",
     "text": [
      "0.9317930697710464\n"
     ]
    }
   ],
   "source": [
    "#Write a Python program to generate a random number?\n",
    "import random\n",
    "n=random.random()\n",
    "print(n)"
   ]
  }
 ],
 "metadata": {
  "kernelspec": {
   "display_name": "Python 3",
   "language": "python",
   "name": "python3"
  },
  "language_info": {
   "codemirror_mode": {
    "name": "ipython",
    "version": 3
   },
   "file_extension": ".py",
   "mimetype": "text/x-python",
   "name": "python",
   "nbconvert_exporter": "python",
   "pygments_lexer": "ipython3",
   "version": "3.8.8"
  }
 },
 "nbformat": 4,
 "nbformat_minor": 5
}
